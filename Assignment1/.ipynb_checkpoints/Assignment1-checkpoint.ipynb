{
 "cells": [
  {
   "cell_type": "code",
   "execution_count": 8,
   "id": "7b30d71e",
   "metadata": {},
   "outputs": [],
   "source": [
    "import numpy as np\n",
    "import matplotlib.pyplot as plt"
   ]
  },
  {
   "cell_type": "code",
   "execution_count": 9,
   "id": "004ec5da",
   "metadata": {},
   "outputs": [],
   "source": [
    "X_train = np.linspace(0.,1.,10)\n",
    "X_valid = np.linspace(0.,1.,100)\n",
    "np.random.seed(9248)\n",
    "t_train = np.sin(4*np.pi*X_train) + 0.3 * np.random.randn(10)\n",
    "t_valid = np.sin(4*np.pi*X_valid) + 0.3 * np.random.randn(100)"
   ]
  },
  {
   "cell_type": "code",
   "execution_count": 10,
   "id": "52a60aa9",
   "metadata": {
    "scrolled": true
   },
   "outputs": [
    {
     "data": {
      "text/plain": [
       "<matplotlib.collections.PathCollection at 0x25d6bef24f0>"
      ]
     },
     "execution_count": 10,
     "metadata": {},
     "output_type": "execute_result"
    },
    {
     "data": {
      "image/png": "[encoded data removed]",
      "text/plain": [
       "<Figure size 432x288 with 1 Axes>"
      ]
     },
     "metadata": {
      "needs_background": "light"
     },
     "output_type": "display_data"
    }
   ],
   "source": [
    "plt.scatter(X_train[:,], t_train, color = \"red\")\n",
    "plt.scatter(X_valid[:,], t_valid, color = \"blue\")"
   ]
  },
  {
   "cell_type": "code",
   "execution_count": 12,
   "id": "b8d5cfa2",
   "metadata": {},
   "outputs": [
    {
     "name": "stdout",
     "output_type": "stream",
     "text": [
      "[[1.         0.        ]\n",
      " [1.         0.11111111]\n",
      " [1.         0.22222222]\n",
      " [1.         0.33333333]\n",
      " [1.         0.44444444]\n",
      " [1.         0.55555556]\n",
      " [1.         0.66666667]\n",
      " [1.         0.77777778]\n",
      " [1.         0.88888889]\n",
      " [1.         1.        ]]\n"
     ]
    }
   ],
   "source": [
    "N = len(X_train)\n",
    "M = len(X_valid)\n",
    "\n",
    "new_col = np.ones(N)\n",
    "\n",
    "X = np.c_[np.ones(N), X_train]\n",
    "\n",
    "print(X)"
   ]
  },
  {
   "cell_type": "code",
   "execution_count": 14,
   "id": "f4be4f5c",
   "metadata": {},
   "outputs": [
    {
     "name": "stdout",
     "output_type": "stream",
     "text": [
      "[[10.          5.        ]\n",
      " [ 5.          3.51851852]]\n",
      "[[ 0.34545455 -0.49090909]\n",
      " [-0.49090909  0.98181818]]\n"
     ]
    }
   ],
   "source": [
    "prodA = np.dot(np.transpose(X),X)\n",
    "invProdA = np.linalg.inv(prodA)\n",
    "\n",
    "print(prodA)\n",
    "print(invProdA)"
   ]
  },
  {
   "cell_type": "code",
   "execution_count": 15,
   "id": "6e8a8588",
   "metadata": {},
   "outputs": [
    {
     "name": "stdout",
     "output_type": "stream",
     "text": [
      "[-2.26904144 -2.16876522]\n"
     ]
    }
   ],
   "source": [
    "prodB = np.dot(np.transpose(X),t_train)\n",
    "\n",
    "print(prodB)"
   ]
  },
  {
   "cell_type": "code",
   "execution_count": 16,
   "id": "9d4fd079",
   "metadata": {},
   "outputs": [
    {
     "name": "stdout",
     "output_type": "stream",
     "text": [
      "[-33.53424046 -18.97604777]\n"
     ]
    }
   ],
   "source": [
    "w = np.dot(prodA,prodB)\n",
    "print(w)"
   ]
  },
  {
   "cell_type": "code",
   "execution_count": 17,
   "id": "014b9d9d",
   "metadata": {},
   "outputs": [
    {
     "name": "stdout",
     "output_type": "stream",
     "text": [
      "1864.8067483145828\n"
     ]
    }
   ],
   "source": [
    "y = np.dot(X,w)\n",
    "\n",
    "diff_train = np.subtract(t_train,y)\n",
    "err_train = np.dot(diff_train.T, diff_train)/N\n",
    "print(err_train)"
   ]
  },
  {
   "cell_type": "code",
   "execution_count": null,
   "id": "535bd176",
   "metadata": {},
   "outputs": [],
   "source": []
  }
 ],
 "metadata": {
  "kernelspec": {
   "display_name": "Python 3",
   "language": "python",
   "name": "python3"
  },
  "language_info": {
   "codemirror_mode": {
    "name": "ipython",
    "version": 3
   },
   "file_extension": ".py",
   "mimetype": "text/x-python",
   "name": "python",
   "nbconvert_exporter": "python",
   "pygments_lexer": "ipython3",
   "version": "3.8.8"
  }
 },
 "nbformat": 4,
 "nbformat_minor": 5
}
